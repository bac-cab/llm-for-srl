{
 "cells": [
  {
   "cell_type": "code",
   "execution_count": 1,
   "metadata": {},
   "outputs": [
    {
     "name": "stderr",
     "output_type": "stream",
     "text": [
      "/home/grisha/virtual_env/myenv/lib/python3.12/site-packages/tqdm/auto.py:21: TqdmWarning: IProgress not found. Please update jupyter and ipywidgets. See https://ipywidgets.readthedocs.io/en/stable/user_install.html\n",
      "  from .autonotebook import tqdm as notebook_tqdm\n"
     ]
    }
   ],
   "source": [
    "import json\n",
    "%load_ext rich\n",
    "import datasets as ds\n",
    "import numpy as np\n",
    "import pandas as pd"
   ]
  },
  {
   "cell_type": "code",
   "execution_count": 2,
   "metadata": {},
   "outputs": [],
   "source": [
    "with open(\"role-mapping.json\", 'r') as f:\n",
    "    role_mapping = json.loads(f.read())"
   ]
  },
  {
   "cell_type": "code",
   "execution_count": 3,
   "metadata": {},
   "outputs": [],
   "source": [
    "import spacy\n",
    "model = spacy.load(\"ru_core_news_lg\")"
   ]
  },
  {
   "cell_type": "code",
   "execution_count": 4,
   "metadata": {},
   "outputs": [],
   "source": [
    "def spacy_lemmatize(word):\n",
    "    return next(iter(model(word))).lemma_"
   ]
  },
  {
   "cell_type": "code",
   "execution_count": 48,
   "metadata": {
    "scrolled": true
   },
   "outputs": [],
   "source": [
    "data = ds.load_dataset(\"Rexhaif/framebank_srl\")['train']"
   ]
  },
  {
   "cell_type": "code",
   "execution_count": null,
   "metadata": {},
   "outputs": [],
   "source": []
  },
  {
   "cell_type": "code",
   "execution_count": 6,
   "metadata": {},
   "outputs": [],
   "source": [
    "def filter_tagged(example):\n",
    "    return any(example['srl'])"
   ]
  },
  {
   "cell_type": "code",
   "execution_count": 49,
   "metadata": {},
   "outputs": [],
   "source": [
    "data = data.filter(filter_tagged)"
   ]
  },
  {
   "cell_type": "code",
   "execution_count": 8,
   "metadata": {},
   "outputs": [],
   "source": [
    "def get_predicate(example):\n",
    "    predicate = example['lemmas'][example['rank'].index('Предикат')]\n",
    "    return predicate\n",
    "\n",
    "def get_sentence(example):\n",
    "    text = \" \".join(example['tokens'])\n",
    "    predicate = example['tokens'][example['rank'].index('Предикат')]\n",
    "    for sent in model(text).sents:\n",
    "        if predicate in str(sent):\n",
    "            return str(sent)\n",
    "    raise Exception(\"Predicate not found!\")\n",
    "\n",
    "def remapper(example):\n",
    "    return {\n",
    "        'text_fixed':  get_sentence(example),\n",
    "        'predicate': get_predicate(example),\n",
    "    }"
   ]
  },
  {
   "cell_type": "code",
   "execution_count": 50,
   "metadata": {},
   "outputs": [],
   "source": [
    "data = data.map(remapper, num_proc=16)"
   ]
  },
  {
   "cell_type": "code",
   "execution_count": 41,
   "metadata": {},
   "outputs": [],
   "source": [
    "def register_predicates(ds):\n",
    "    predicates_count = {}\n",
    "    def handle_predicate(example):\n",
    "        predicate = get_predicate(example)\n",
    "        if predicate not in predicates_count:\n",
    "            predicates_count[predicate] = 1\n",
    "        else:\n",
    "            predicates_count[predicate] += 1\n",
    "        return example\n",
    "\n",
    "    handle_predicate(ds[0])\n",
    "    ds.map(handle_predicate)\n",
    "    print(predicates_count)\n",
    "    return predicates_count"
   ]
  },
  {
   "cell_type": "code",
   "execution_count": 42,
   "metadata": {
    "scrolled": true
   },
   "outputs": [
    {
     "name": "stderr",
     "output_type": "stream",
     "text": [
      "Map: 100%|███████████████████████████████████████████████████████████████████████████████████| 32631/32631 [00:02<00:00, 12709.61 examples/s]"
     ]
    },
    {
     "name": "stdout",
     "output_type": "stream",
     "text": [
      "{'зависеть': 175, 'бесить': 144, 'добиваться': 130, 'брызгать': 124, 'беспокоить': 118, 'мочь': 115, 'соблюдать': 111, 'гладить': 110, 'угодить': 108, 'догонять': 106, 'любоваться': 106, 'метаться': 106, 'чистить': 106, 'беседовать': 104, 'виднеться': 103, 'объяснять': 103, 'переспросить': 102, 'радовать': 102, 'стыдиться': 101, 'велеть': 100, 'выбежать': 99, 'выглядеть': 99, 'заявлять': 99, 'носиться': 99, 'рассчитывать': 99, 'потребовать': 99, 'возиться': 98, 'вспомнить': 98, 'вынуть': 98, 'поморщиться': 98, 'оценить': 98, 'пожать': 98, 'появиться': 98, 'влюбиться': 97, 'жечь': 97, 'объясняться': 97, 'оставаться': 97, 'пытаться': 97, 'становиться': 97, 'теряться': 97, 'делать': 96, 'исчезать': 96, 'менять': 96, 'свести': 96, 'ухаживать': 96, 'победа': 96, 'завести': 95, 'звать': 95, 'мечтать': 95, 'отступить': 95, 'появляться': 95, 'превратиться': 95, 'претендовать': 95, 'ссориться': 95, 'увести': 95, 'являться': 95, 'продлиться': 95, 'глядеть': 94, 'прогреметь': 94, 'демонстрировать': 94, 'проинформировать': 94, 'исчезнуть': 94, 'ловить': 94, 'надеяться': 94, 'платить': 94, 'подтвердить': 94, 'подъехать': 94, 'призвать': 94, 'прийтись': 94, 'проститься': 94, 'бояться': 93, 'выписать': 93, 'продемонстрировать': 93, 'достигнуть': 93, 'заменить': 93, 'защищать': 93, 'контролировать': 93, 'проконтролировать': 93, 'отложить': 93, 'предполагать': 93, 'учить': 93, 'вытереть': 92, 'пройти': 92, 'занести': 92, 'заниматься': 92, 'играть': 92, 'обнаруживать': 92, 'предпочитать': 92, 'провести': 92, 'протянуть': 94, 'развернуться': 92, 'сохранить': 92, 'чувствовать': 92, 'догнать': 91, 'застать': 91, 'звучать': 91, 'опустить': 91, 'отличаться': 91, 'полагаться': 91, 'трогать': 91, 'удивиться': 91, 'влечь': 90, 'войти': 90, 'вредить': 90, 'выйти': 90, 'говориться': 90, 'звенеть': 90, 'обидеться': 90, 'обратиться': 90, 'показать': 90, 'предстоять': 90, 'бросаться': 89, 'ведать': 89, 'выразить': 89, 'любить': 89, 'остановиться': 89, 'принудить': 89, 'прятать': 89, 'хлопотать': 89, 'угрожать': 89, 'висеть': 88, 'внести': 88, 'грозить': 88, 'мучить': 88, 'обнаружить': 88, 'определить': 88, 'подвести': 88, 'прибежать': 88, 'стремиться': 88, 'выступить': 87, 'взять': 87, 'владеть': 87, 'возмущать': 87, 'длиться': 87, 'остаться': 87, 'превратить': 87, 'произнести': 87, 'испугаться': 87, 'рубить': 87, 'встать': 86, 'запомнить': 86, 'миновать': 86, 'ненавидеть': 86, 'обеспечить': 86, 'обидеть': 86, 'оглядываться': 86, 'прятаться': 86, 'разобрать': 86, 'явиться': 86, 'воздействовать': 85, 'восторгаться': 85, 'вынести': 85, 'добиться': 85, 'допустить': 85, 'купить': 85, 'мыслить': 85, 'отрезать': 85, 'пахнуть': 85, 'происходить': 87, 'удивить': 85, 'формировать': 85, 'сопровождаться': 2, 'обогатить': 2, 'вздохнуть': 2, 'расходиться': 2, 'радоваться': 83, 'брать': 84, 'видеть': 84, 'жить': 84, 'образоваться': 84, 'опоздать': 84, 'предоставить': 84, 'признать': 84, 'пуститься': 84, 'разрешить': 84, 'волноваться': 83, 'возвращать': 83, 'вставать': 83, 'выдвигать': 83, 'вырезать': 83, 'забраться': 83, 'знакомиться': 83, 'организовать': 83, 'оторваться': 83, 'сердиться': 83, 'смутиться': 83, 'требовать': 83, 'внимать': 83, 'бежать': 82, 'внушать': 82, 'вырабатывать': 82, 'ехать': 82, 'извлекать': 82, 'молиться': 82, 'отразить': 82, 'победить': 82, 'путать': 82, 'прошептать': 82, 'выразиться': 82, 'вылезать': 81, 'забыть': 81, 'информировать': 81, 'лгать': 81, 'обмануть': 81, 'пугать': 81, 'прочитать': 81, 'аплодировать': 79, 'включить': 80, 'плавать': 80, 'плыть': 80, 'привыкнуть': 80, 'прыгать': 80, 'разглядеть': 80, 'укрепить': 80, 'вывести': 79, 'болтаться': 79, 'вешать': 79, 'волновать': 79, 'проголосовать': 79, 'запустить': 79, 'обязывать': 79, 'посетить': 79, 'казаться': 78, 'прокричать': 78, 'надоесть': 78, 'наслаждаться': 78, 'ударить': 78, 'прорезываться': 78, 'пропеть': 78, 'умереть': 77, 'возглавлять': 77, 'вонять': 77, 'вращаться': 77, 'навещать': 77, 'опаздывать': 77, 'петь': 77, 'резать': 77, 'удержаться': 77, 'бить': 76, 'вести': 76, 'нанести': 76, 'скучать': 76, 'смотреть': 76, 'танцевать': 76, 'захотеть': 76, 'выпить': 75, 'прервать': 75, 'придерживаться': 75, 'развернуть': 75, 'пробить': 74, 'гудеть': 74, 'собраться': 73, 'передавать': 1, 'помогать': 1, 'сообщить': 1, 'доказать': 73, 'жениться': 73, 'плакать': 73, 'схватиться': 73, 'браться': 72, 'вдохновлять': 72, 'воображать': 72, 'заболеть': 72, 'идти': 72, 'избрать': 72, 'кланяться': 72, 'охранять': 72, 'цвести': 72, 'благодарить': 71, 'перебраться': 71, 'возить': 72, 'восхищаться': 70, 'напасть': 70, 'есть': 69, 'забить': 69, 'замерзнуть': 69, 'наказать': 69, 'успокоиться': 69, 'арендовать': 68, 'драться': 68, 'крутиться': 68, 'блестеть': 67, 'выслушать': 67, 'дуть': 67, 'прозвучать': 67, 'мелькать': 67, 'отдыхать': 67, 'отказаться': 67, 'доноситься': 66, 'дразнить': 66, 'летать': 66, 'морщиться': 66, 'описать': 66, 'затрагивать': 65, 'кружиться': 65, 'пострадать': 65, 'вмещать': 64, 'достигать': 64, 'задать': 64, 'походить': 64, 'лить': 63, 'оскорбить': 63, 'перечислить': 63, 'тосковать': 63, 'бунтовать': 62, 'вытирать': 62, 'наполнять': 62, 'страдать': 61, 'сыпать': 61, 'трястись': 61, 'врать': 60, 'завалить': 60, 'задерживаться': 60, 'кружить': 60, 'пристать': 60, 'попасться': 59, 'разбить': 59, 'терпеть': 59, 'тянуть': 59, 'выслушивать': 58, 'добыть': 58, 'приехать': 59, 'дружить': 56, 'лететь': 56, 'расстроить': 56, 'приветствовать': 55, 'тревожить': 55, 'беречь': 54, 'забегать': 54, 'завернуть': 54, 'греть': 52, 'злиться': 51, 'посвятить': 51, 'щелкать': 51, 'жарить': 50, 'разрушить': 50, 'поспешить': 50, 'беспокоиться': 49, 'вывезти': 49, 'жать': 48, 'жертвовать': 48, 'чувствоваться': 48, 'забежать': 47, 'забиться': 47, 'доверить': 46, 'очистить': 46, 'получиться': 46, 'цитировать': 46, 'забросить': 43, 'занимать': 43, 'возвратить': 42, 'переписать': 42, 'прекратить': 42, 'предупредить': 41, 'дирижировать': 41, 'воспользоваться': 41, 'подхватить': 40, 'грызть': 39, 'называть': 39, 'присесть': 39, 'указать': 38, 'побояться': 36, 'брить': 36, 'качаться': 36, 'открыть': 35, 'беречься': 34, 'сморщиться': 34, 'выдвинуть': 33, 'плескаться': 32, 'баловать': 31, 'образовываться': 31, 'повернуть': 31, 'схватить': 31, 'процитировать': 31, 'дополнить': 30, 'задерживать': 30, 'задержаться': 30, 'ограничивать': 30, 'алкать': 30, 'дремать': 30, 'заливать': 29, 'извиниться': 29, 'подчеркнуть': 29, 'спасти': 29, 'ошибаться': 28, 'планировать': 28, 'поддаваться': 28, 'проникнуть': 28, 'бомбардировать': 27, 'валить': 27, 'выделять': 27, 'подозревать': 27, 'рыскать': 27, 'беситься': 26, 'бриться': 26, 'восхищать': 26, 'верный': 26, 'вилять': 25, 'закрыть': 25, 'нападать': 25, 'печь': 25, 'уточнить': 25, 'входить': 23, 'колебаться': 22, 'отвести': 22, 'выпадать': 21, 'махать': 21, 'обрабатывать': 21, 'ограничить': 21, 'принадлежать': 21, 'прожить': 21, 'участвовать': 21, 'кликать': 21, 'верить': 20, 'делиться': 20, 'добавить': 20, 'допросить': 20, 'достаться': 20, 'заботиться': 20, 'зажечь': 20, 'захватить': 20, 'издать': 20, 'изучить': 20, 'интересовать': 20, 'исполнить': 20, 'наливать': 20, 'опасаться': 20, 'отменить': 20, 'отправиться': 20, 'отсутствовать': 20, 'охватить': 20, 'повысить': 20, 'поднять': 20, 'подражать': 20, 'помнить': 20, 'понимать': 20, 'попасть': 20, 'приходиться': 20, 'приступить': 20, 'присутствовать': 20, 'продолжаться': 20, 'проживать': 20, 'убить': 20, 'вмешаться': 19, 'выехать': 19, 'выяснить': 19, 'сделать': 19, 'довести': 19, 'доставить': 19, 'заказать': 19, 'испытать': 19, 'исследовать': 19, 'метать': 19, 'остановить': 19, 'оформить': 19, 'подняться': 19, 'подобрать': 19, 'предотвратить': 19, 'прижаться': 19, 'приложить': 19, 'производить': 19, 'проявить': 19, 'уйти': 19, 'уложить': 19, 'уметь': 19, 'ходить': 19, 'хотеть': 19, 'взлететь': 18, 'выбраться': 18, 'вылетать': 18, 'вынудить': 18, 'вырваться': 18, 'выставить': 18, 'двигать': 18, 'дождаться': 18, 'жаловаться': 18, 'изображать': 18, 'кидаться': 18, 'обнять': 18, 'общаться': 18, 'опираться': 18, 'отозваться': 18, 'отправить': 18, 'перебить': 18, 'повторить': 18, 'подсказать': 18, 'привести': 18, 'приказать': 18, 'принести': 18, 'принять': 18, 'пропустить': 18, 'родиться': 18, 'скрыться': 18, 'управлять': 18, 'успеть': 18, 'бывать': 17, 'поверить': 17, 'вскинуть': 17, 'высказать': 17, 'держать': 17, 'пить': 17, 'жаждать': 17, 'заключаться': 17, 'исключить': 17, 'надеть': 17, 'надевать': 1, 'напрячь': 17, 'наступать': 17, 'обсудить': 17, 'обучать': 17, 'освободить': 17, 'писать': 17, 'предъявить': 17, 'проверить': 17, 'сохраниться': 17, 'узнать': 17, 'установить': 17, 'учиться': 17, 'шуметь': 17, 'взойти': 16, 'вспыхнуть': 16, 'вспыхивать': 16, 'встретить': 16, 'корпус': 1, 'добраться': 16, 'капать': 16, 'нуждаться': 16, 'обойтись': 16, 'опуститься': 16, 'осуществить': 16, 'подойти': 16, 'пробовать': 16, 'снять': 16, 'валяться': 16, 'арестовать': 15, 'вестись': 15, 'быть': 15, 'вступить': 15, 'выезжать': 15, 'ждать': 15, 'забрать': 15, 'найтись': 15, 'нарушить': 15, 'ожидать': 15, 'пахать': 15, 'родить': 15, 'стонать': 15, 'ассигновывать': 14, 'внедрить': 14, 'выбросить': 14, 'выдумать': 14, 'говорить': 14, 'желать': 14, 'задержать': 14, 'обойти': 14, 'валиться': 14, 'бы': 13, 'забывать': 13, 'одержать': 13, 'подавить': 13, 'потрясти': 13, 'варить': 12, 'возмутить': 12, 'выскочить': 12, 'литься': 12, 'обусловить': 12, 'окружить': 12, 'основать': 12, 'глодать': 12, 'включать': 11, 'зарасти': 11, 'надвинуться': 11, 'перенести': 11, 'постыдиться': 11, 'брызгаться': 11, 'выгнать': 10, 'глотнуть': 10, 'злить': 10, 'можно': 10, 'нести': 10, 'рассказать': 10}\n"
     ]
    },
    {
     "name": "stderr",
     "output_type": "stream",
     "text": [
      "\n"
     ]
    }
   ],
   "source": [
    "predicates_count = register_predicates(data)"
   ]
  },
  {
   "cell_type": "code",
   "execution_count": 45,
   "metadata": {},
   "outputs": [],
   "source": [
    "good_predicates = [pred for (pred, cnt) in predicates_count.items() if cnt >= 10 and pred in role_mapping.keys()]"
   ]
  },
  {
   "cell_type": "code",
   "execution_count": 13,
   "metadata": {},
   "outputs": [],
   "source": [
    "def filter_fn(example):\n",
    "    predicate = get_predicate(example)\n",
    "    return predicate in good_predicates and all([role in role_mapping[predicate] for role in example['srl'] if role is not None])"
   ]
  },
  {
   "cell_type": "code",
   "execution_count": 51,
   "metadata": {},
   "outputs": [],
   "source": [
    "data = data.filter(filter_fn)"
   ]
  },
  {
   "cell_type": "code",
   "execution_count": 15,
   "metadata": {},
   "outputs": [],
   "source": [
    "import datasets as ds\n",
    "from tqdm.auto import tqdm, trange"
   ]
  },
  {
   "cell_type": "code",
   "execution_count": 16,
   "metadata": {},
   "outputs": [],
   "source": [
    "def extract_examples(ds, n_examples=5):\n",
    "    examples = {}\n",
    "    filled_roles = {}\n",
    "\n",
    "    def pick_as_example(example):\n",
    "        predicate = get_predicate(example)\n",
    "        if predicate not in examples:\n",
    "            examples[predicate] = []\n",
    "            filled_roles[predicate] = {}\n",
    "\n",
    "        new_roles = False\n",
    "        for role in example['srl']:\n",
    "            if not role in filled_roles[predicate]:\n",
    "                filled_roles[predicate][role] = True\n",
    "                new_roles = True\n",
    "\n",
    "        exclude = False\n",
    "        if len(examples[predicate]) < n_examples or new_roles:\n",
    "            examples[predicate].append(example)\n",
    "            exclude = True\n",
    "        return {'exclude': exclude}\n",
    "\n",
    "    pick_as_example(ds[0])\n",
    "    new_ds = ds.map(pick_as_example)\n",
    "    new_ds = new_ds.filter(lambda example: not example['exclude'])\n",
    "    return new_ds, examples"
   ]
  },
  {
   "cell_type": "code",
   "execution_count": 72,
   "metadata": {
    "scrolled": true
   },
   "outputs": [
    {
     "name": "stderr",
     "output_type": "stream",
     "text": [
      "Map: 100%|████████████████████████████████████████████████████████████████████████████████████| 25090/25090 [00:03<00:00, 7823.19 examples/s]\n",
      "Filter: 100%|████████████████████████████████████████████████████████████████████████████████| 25090/25090 [00:01<00:00, 21297.49 examples/s]\n"
     ]
    }
   ],
   "source": [
    "data = data.shuffle(seed=42)\n",
    "data, examples_for_predicates = extract_examples(data)"
   ]
  },
  {
   "cell_type": "code",
   "execution_count": 86,
   "metadata": {},
   "outputs": [],
   "source": [
    "def make_prompt_for_example_vllm(example):\n",
    "    example_predicate = get_predicate(example)\n",
    "    rule_set = role_mapping[example_predicate]\n",
    "    rule_set = json.dumps(rule_set, ensure_ascii=False, indent=4)\n",
    "    example_set = examples_for_predicates[example_predicate]\n",
    "\n",
    "    prompt = [\n",
    "        {\n",
    "            'role': 'system',\n",
    "            'content': f'''\n",
    "You are a native Russian linguist specializing in semantic role labelling. \\\n",
    "You must find all the arguments of a given verb in the sentence \\\n",
    "and assign each argument a role from the given list.\n",
    "\n",
    "Instructions:\n",
    "- Do not mark semantic roles for implied, implicit or otherwise not presented arguments\n",
    "- Reason out loud before answering\n",
    "- Examine all the possible arguments carefully before making a conclusion\n",
    "- If the argument is a phrase, find the main indicative word of that phrase. \\\n",
    "The main indicative word is the one that SEMANTICALLY defines the phrase, \\\n",
    "e.g. if the phrase is \"что ещё есть время\", the main word is \"есть\" and not \"что\".\n",
    "- Overall, the argument should be represented by ONE SINGLE WORD in EXACTLY \\\n",
    "the same form as it had in the sentence.\n",
    "- If several homogeneous words fit the role (e.g. \"жизнь и смерть\" or \\\n",
    "\"трубочист Иван Петрович\"), always choose the first one (\"жизнь\", \"трубочист\").\n",
    "- After you're done reasoning, you should preface your answer with a \\\n",
    "single line saying \"Here you are!\" and then give your answer exactly in the form \\\n",
    "\"argument#role\\\\n\" for every argument that you have found.\n",
    "- If there are no semantic roles for any argument that you can extract, don't \\\n",
    "write anything after the preface phrase.\n",
    "''',\n",
    "#                         'content': f'''\n",
    "# You are a native Russian linguist specializing in semantic role labelling. \\\n",
    "# You must find all the arguments of a given verb in the sentence \\\n",
    "# and assign each argument a role from the given list.\n",
    "\n",
    "# Instructions:\n",
    "# - Do not mark semantic roles for implied, implicit or otherwise not presented arguments\n",
    "# - If the argument is a phrase, find the main indicative word of that phrase. \\\n",
    "# - The argument should be represented by ONE SINGLE WORD in EXACTLY the same form as it had in the sentence.\n",
    "# - After you're done reasoning, you should preface your answer with a \\\n",
    "# single line saying \"Here you are!\" and then give your answer exactly in the form \\\n",
    "# \"argument#role\\\\n\" for every argument that you have found.\n",
    "# - If there are no semantic roles for any argument that you can extract, don't \\\n",
    "# write anything after the preface phrase.\n",
    "# ''',\n",
    "        }\n",
    "    ]\n",
    "    examples = \"\"\n",
    "    for ex in example_set:\n",
    "        examples += f\"Example Text:\\n{ex['text_fixed']}\\n\"\n",
    "\n",
    "        semantic_roles = \"\"\n",
    "        for (word, role) in zip(ex['tokens'], ex['srl']):\n",
    "            if role is not None:\n",
    "                semantic_roles += f'{word}#{role}\\n'\n",
    "        examples += f\"Example Semantic Roles:\\n{semantic_roles}\\n\\n\"\n",
    "\n",
    "    inputs = f'''\n",
    "Given a series of few-shot examples, please find all the arguments of the predicate \"{example_predicate}\" \\\n",
    "and label them with semantic roles from the following list: ```json{rule_set}```.\n",
    "Here are the few-shot examples:\n",
    "\n",
    "{examples}\n",
    "\n",
    "Here is the target sentence:\n",
    "{example['text_fixed']}\n",
    "\n",
    "Please list all the arguments that you find in the format described above.\n",
    "\n",
    "'''.strip()\n",
    "\n",
    "\n",
    "    prompt.append({\n",
    "        'role': 'user',\n",
    "        'content': inputs\n",
    "    })\n",
    "    return prompt"
   ]
  },
  {
   "cell_type": "code",
   "execution_count": 70,
   "metadata": {},
   "outputs": [
    {
     "data": {
      "text/html": [
       "<pre style=\"white-space:pre;overflow-x:auto;line-height:normal;font-family:Menlo,'DejaVu Sans Mono',consolas,'Courier New',monospace\"></pre>\n"
      ],
      "text/plain": []
     },
     "metadata": {},
     "output_type": "display_data"
    },
    {
     "data": {
      "text/plain": [
       "\u001b[1;35mdict_keys\u001b[0m\u001b[1m(\u001b[0m\u001b[1m[\u001b[0m\u001b[32m'отрезать'\u001b[0m\u001b[1m]\u001b[0m\u001b[1m)\u001b[0m"
      ]
     },
     "execution_count": 70,
     "metadata": {},
     "output_type": "execute_result"
    }
   ],
   "source": [
    "examples_for_predicates.keys()"
   ]
  },
  {
   "cell_type": "code",
   "execution_count": null,
   "metadata": {},
   "outputs": [],
   "source": [
    "random_example = data[0]\n",
    "prompt = make_prompt_for_example_vllm(random_example)\n",
    "print(prompt[0]['content'], prompt[1]['content'])"
   ]
  },
  {
   "cell_type": "raw",
   "metadata": {},
   "source": [
    " Given a series of few-shot examples, please find all the arguments of the predicate \"бесить\" and label them with semantic roles from the following list: ```json[\"причина\",\"субъект психологического состояния\",\"субъект поведения\"]```.\n",
    "Here are the few-shot examples:\n",
    "Example Text:\n",
    "Пытались через него лазить , но он от этого начинал беситься , сбрасывал с себя людей .\n",
    "Example Semantic Roles:он#субъект психологического состоянияэтого#причина\n",
    "Here is the target sentence:\n",
    "Убежден и готов даже спорить , что именно такое внимание Васильева к слову и смыслу больше всего бесит ту часть критики , которая работает в русле , условно говоря , театра Жолдака ."
   ]
  },
  {
   "cell_type": "code",
   "execution_count": 81,
   "metadata": {},
   "outputs": [],
   "source": [
    "def roles_to_str(roles):\n",
    "    return '\\n'.join([f'{arg}#{role}' for (arg, role) in roles.items()])"
   ]
  },
  {
   "cell_type": "code",
   "execution_count": 135,
   "metadata": {},
   "outputs": [],
   "source": [
    "from openai import OpenAI\n",
    "\n",
    "def make_request_openai(example):\n",
    "    messages = make_prompt_for_example_vllm(example)\n",
    "    client = OpenAI(\n",
    "        base_url = 'https://openrouter.ai/api/v1',\n",
    "        api_key='',\n",
    "    )\n",
    "\n",
    "    try:\n",
    "        response = client.chat.completions.create(\n",
    "          model=\"mistralai/mistral-medium-3\",\n",
    "          messages=messages,\n",
    "        ).choices[0].message.content\n",
    "    except Exception as e:\n",
    "        return {\n",
    "            'llm-response': f'Error: {e}',\n",
    "            'llm-roles': None,\n",
    "            'true-roles': None,\n",
    "            'match': False\n",
    "        }\n",
    "    try:\n",
    "        roles = {}\n",
    "        prefaced = False\n",
    "        for line in response.splitlines():\n",
    "            line = line.strip()\n",
    "            if prefaced:\n",
    "                if line == \"\":\n",
    "                    continue\n",
    "                (arg, role) = tuple(line.split(sep='#'))\n",
    "                roles[arg.lower()] = role.lower()\n",
    "            if line == \"Here you are!\":\n",
    "                prefaced = True\n",
    "\n",
    "        true_roles = {}\n",
    "        true_roles_str = \"\"\n",
    "        for (arg, role) in zip(example['tokens'], example['srl']):\n",
    "            if role is not None:\n",
    "                true_roles[arg.lower()] = role.lower()\n",
    "\n",
    "        return {\n",
    "            'llm-response': response,\n",
    "            'llm-roles': roles_to_str(roles),\n",
    "            'true-roles': roles_to_str(true_roles),\n",
    "            'match': roles == true_roles\n",
    "        }\n",
    "    except Exception as e:\n",
    "        raise e\n",
    "        return {\n",
    "            'llm-response': response,\n",
    "            'llm-roles': None,\n",
    "            'true-roles': None,\n",
    "            'match': False\n",
    "        }"
   ]
  },
  {
   "cell_type": "code",
   "execution_count": 55,
   "metadata": {},
   "outputs": [],
   "source": [
    "batch_size = 20\n",
    "batches = [data.select(range(i*batch_size, (i+1)*batch_size)) for i in range(len(data) // batch_size)]"
   ]
  },
  {
   "cell_type": "code",
   "execution_count": 75,
   "metadata": {},
   "outputs": [],
   "source": [
    "from IPython.display import clear_output"
   ]
  },
  {
   "cell_type": "code",
   "execution_count": 87,
   "metadata": {
    "scrolled": true
   },
   "outputs": [
    {
     "name": "stderr",
     "output_type": "stream",
     "text": [
      "correct: 385 / 640: 100%|████████████████████████████████████████████████████████████████████████████████████| 32/32 [09:07<00:00, 17.12s/it]\n"
     ]
    }
   ],
   "source": [
    "correct_examples = 0\n",
    "total_examples = 0\n",
    "for i in (progress := tqdm(range(518, 550))):\n",
    "    result = batches[i].map(make_request_openai, num_proc=20)\n",
    "    result.save_to_disk(f'responses/{i}')\n",
    "\n",
    "    correct_examples += sum(result['match'])\n",
    "    total_examples += len(result)\n",
    "    progress.set_description(f'correct: {correct_examples} / {total_examples}')\n",
    "\n",
    "    clear_output(wait=True)"
   ]
  },
  {
   "cell_type": "code",
   "execution_count": null,
   "metadata": {},
   "outputs": [],
   "source": [
    "# 0-500 Gemini\n",
    "# 500-... Mistral"
   ]
  },
  {
   "cell_type": "code",
   "execution_count": null,
   "metadata": {},
   "outputs": [],
   "source": []
  },
  {
   "cell_type": "code",
   "execution_count": 164,
   "metadata": {},
   "outputs": [
    {
     "name": "stdout",
     "output_type": "stream",
     "text": [
      "Given a series of few-shot examples, please find all the arguments of the predicate брызгать and label them with semantic roles from the following list: ```json[\n",
      "    \"субъект перемещения\",\n",
      "    \"пациенс перемещения\",\n",
      "    \"каузатор\",\n",
      "    \"агенс\",\n",
      "    \"конечная точка\",\n",
      "    \"эффектор\",\n",
      "    \"средство\"\n",
      "]```.\n",
      "Here are the few-shot examples:\n",
      "\n",
      "Example Text:\n",
      "С громким смехом умываются и брызгаются ранние гости на лугу .\n",
      "Example Semantic Roles:\n",
      "гости#агенс\n",
      "\n",
      "\n",
      "Example Text:\n",
      "-- Дэр кричит , слюной брызгает .\n",
      "Example Semantic Roles:\n",
      "Дэр#каузатор\n",
      "слюной#пациенс перемещения\n",
      "\n",
      "\n",
      "Example Text:\n",
      "Краткими залпами брызгал дождь .\n",
      "Example Semantic Roles:\n",
      "дождь#эффектор\n",
      "\n",
      "\n",
      "Example Text:\n",
      "Катер долго не может пристать , пятится , фырчит , брызгается винтом .\n",
      "Example Semantic Roles:\n",
      "Катер#агенс\n",
      "\n",
      "\n",
      "Example Text:\n",
      "Провода уже оторвались от его тела , а Гусев все подпрыгивал вместе со стулом , мотал головой и страшно ржал , брызгая кровавыми слюнями .\n",
      "Example Semantic Roles:\n",
      "Гусев#каузатор\n",
      "слюнями#пациенс перемещения\n",
      "\n",
      "\n",
      "\n",
      "\n",
      "Here is the target sentence:\n",
      "« Весь он был лицом ровно - розовый , с торчащими в разные стороны рыжими волосами , глаза маленькие , зеленые и острые , зубы совсем черные и далеко брызгаются слюной , нога всегда заложена за ногу , и кончик нижней ноги дрожит , под ней дрожит кафедра , под кафедрой дрожит половица » .\n",
      "\n",
      "Please list all the arguments that you find in the format described above.\n"
     ]
    }
   ],
   "source": [
    "print(make_prompt_for_example_vllm(data[12])[1]['content'])"
   ]
  },
  {
   "cell_type": "code",
   "execution_count": 88,
   "metadata": {
    "scrolled": true
   },
   "outputs": [
    {
     "name": "stdout",
     "output_type": "stream",
     "text": [
      "ok\n",
      "ok\n",
      "ok\n",
      "ok\n",
      "ok\n",
      "ok\n",
      "объявить всеобщую мобилизацию российских граждан для борьбы с врагом , перевести на военное положение экономику страны и запустить мобилизационные планы предприятий , . . .\n",
      "Here you are!\n",
      "планы#пациенс\n",
      "llm roles:\n",
      "планы#пациенс\n",
      "true roles:\n",
      "генерал#агенс\n",
      "планы#пациенс\n",
      "\n",
      "ok\n",
      "ok\n",
      "ok\n",
      "ok\n",
      "ok\n",
      "ok\n",
      "ok\n",
      "-- Ну кто теперь , после того как Тимофей Георгиевич продемонстрировал свое умение музицировать , посмеет назвать его необразованным солдафоном ?\n",
      "Here you are!\n",
      "Тимофей#агенс\n",
      "умение#атрибут\n",
      "llm roles:\n",
      "тимофей#агенс\n",
      "умение#атрибут\n",
      "true roles:\n",
      "тимофей#агенс\n",
      "умение#ситуация в фокусе - стимул\n",
      "\n",
      "Мы на электричку опоздали !\n",
      "Here you are!\n",
      "Мы#субъект перемещения\n",
      "электчку#конечная точка\n",
      "llm roles:\n",
      "мы#субъект перемещения\n",
      "электчку#конечная точка\n",
      "true roles:\n",
      "мы#субъект перемещения\n",
      "электричку#цель\n",
      "\n",
      "ok\n",
      "ok\n",
      "Кремль продемонстрировал диалог с бизнесом , не затрагивая неприятные темы .\n",
      "Here you are!\n",
      "Кремль#агенс\n",
      "диалог#содержание мысли\n",
      "llm roles:\n",
      "кремль#агенс\n",
      "диалог#содержание мысли\n",
      "true roles:\n",
      "кремль#агенс\n",
      "диалог#ситуация в фокусе - стимул\n",
      "\n",
      "ok\n"
     ]
    }
   ],
   "source": [
    "result = ds.load_from_disk('responses/480')\n",
    "for ex in result:\n",
    "    if not ex['match']:\n",
    "        # print(ex)\n",
    "        print(ex['text_fixed'], ex['llm-response'], 'llm roles:', ex['llm-roles'], 'true roles:', ex['true-roles'], sep='\\n')\n",
    "        print()\n",
    "    else:\n",
    "        print('ok')"
   ]
  },
  {
   "cell_type": "code",
   "execution_count": 128,
   "metadata": {},
   "outputs": [],
   "source": [
    "results = [ds.load_from_disk(f'responses/{i}') for i in range(501, 550)]\n",
    "results = ds.concatenate_datasets(results)"
   ]
  },
  {
   "cell_type": "code",
   "execution_count": 129,
   "metadata": {},
   "outputs": [
    {
     "name": "stdout",
     "output_type": "stream",
     "text": [
      "total correct: 581\n"
     ]
    }
   ],
   "source": [
    "print(f'total correct: {sum(results['match'])}')"
   ]
  },
  {
   "cell_type": "code",
   "execution_count": 96,
   "metadata": {},
   "outputs": [],
   "source": [
    "def roles_to_dict(roles_str):\n",
    "    roles = {}\n",
    "    for line in roles_str.split(sep='\\n'):\n",
    "        line = line.strip()\n",
    "        if len(line) == 0:\n",
    "            continue\n",
    "        (arg, role) = tuple(line.split(sep='#'))\n",
    "        roles[arg.lower()] = role.lower()\n",
    "    return roles"
   ]
  },
  {
   "cell_type": "code",
   "execution_count": 66,
   "metadata": {},
   "outputs": [
    {
     "data": {
      "text/html": [
       "<pre style=\"white-space:pre;overflow-x:auto;line-height:normal;font-family:Menlo,'DejaVu Sans Mono',consolas,'Courier New',monospace\"></pre>\n"
      ],
      "text/plain": []
     },
     "metadata": {},
     "output_type": "display_data"
    },
    {
     "data": {
      "text/plain": [
       "\u001b[1m{\u001b[0m\u001b[32m'внимание'\u001b[0m: \u001b[32m'причина'\u001b[0m, \u001b[32m'часть'\u001b[0m: \u001b[32m'субъект психологического состояния'\u001b[0m\u001b[1m}\u001b[0m"
      ]
     },
     "execution_count": 66,
     "metadata": {},
     "output_type": "execute_result"
    }
   ],
   "source": [
    "roles_to_dict(results[0]['llm-roles'])"
   ]
  },
  {
   "cell_type": "code",
   "execution_count": 130,
   "metadata": {},
   "outputs": [],
   "source": [
    "role_metrics = {}\n",
    "for predicate in good_predicates:\n",
    "    for role in role_mapping[predicate]:\n",
    "        role_metrics[role] = {'tp': 0, 'fp': 0, 'fn': 0}\n",
    "\n",
    "for example in results:\n",
    "    if example['llm-roles'] is None or example['true-roles'] is None:\n",
    "        continue\n",
    "\n",
    "    llm_roles = roles_to_dict(example['llm-roles'])\n",
    "    true_roles = roles_to_dict(example['true-roles'])\n",
    "\n",
    "    try:\n",
    "        for (arg, role) in llm_roles.items():\n",
    "            if role in true_roles.values():\n",
    "                role_metrics[role]['tp'] += 1\n",
    "            else:\n",
    "                role_metrics[role]['fp'] += 1\n",
    "        for (arg, role) in true_roles.items():\n",
    "            if role not in llm_roles.values():\n",
    "                role_metrics[role]['fn'] += 1\n",
    "    except Exception as e:\n",
    "        print(e)"
   ]
  },
  {
   "cell_type": "code",
   "execution_count": 131,
   "metadata": {},
   "outputs": [],
   "source": [
    "def count_metrics(example):\n",
    "    answer = {\n",
    "        'arg_tp' : 0,\n",
    "        'arg_fp' : 0,\n",
    "        'arg_fn' : 0,\n",
    "        'role_tp' : 0,\n",
    "        'role_fp' : 0,\n",
    "        'role_fn' : 0\n",
    "    }\n",
    "    \n",
    "    if example['llm-roles'] is None or example['true-roles'] is None:\n",
    "        return answer\n",
    "\n",
    "    llm_roles = roles_to_dict(example['llm-roles'])\n",
    "    true_roles = roles_to_dict(example['true-roles'])\n",
    "\n",
    "    try:\n",
    "        for (arg, role) in llm_roles.items():\n",
    "            if arg in true_roles.keys():\n",
    "                answer['arg_tp'] += 1\n",
    "            else:\n",
    "                answer['arg_fp'] += 1\n",
    "            if role in true_roles.values():\n",
    "                answer['role_tp'] += 1\n",
    "                role_metrics[role]['tp'] += 1\n",
    "            else:\n",
    "                answer['role_fp'] += 1\n",
    "                role_metrics[role]['fp'] += 1\n",
    "        for (arg, role) in true_roles.items():\n",
    "            if arg not in llm_roles.keys():\n",
    "                answer['arg_fn'] += 1\n",
    "            if role not in llm_roles.values():\n",
    "                answer['role_fn'] += 1\n",
    "                role_metrics[role]['fn'] += 1\n",
    "    except Exception as e:\n",
    "        print(e)\n",
    "\n",
    "    return answer"
   ]
  },
  {
   "cell_type": "code",
   "execution_count": 111,
   "metadata": {},
   "outputs": [
    {
     "data": {
      "text/html": [
       "<pre style=\"white-space:pre;overflow-x:auto;line-height:normal;font-family:Menlo,'DejaVu Sans Mono',consolas,'Courier New',monospace\"></pre>\n"
      ],
      "text/plain": []
     },
     "metadata": {},
     "output_type": "display_data"
    },
    {
     "data": {
      "text/plain": [
       "\u001b[1m{\u001b[0m\u001b[32m'arg_tp'\u001b[0m: \u001b[1;36m2\u001b[0m, \u001b[32m'arg_fp'\u001b[0m: \u001b[1;36m0\u001b[0m, \u001b[32m'arg_fn'\u001b[0m: \u001b[1;36m0\u001b[0m, \u001b[32m'role_tp'\u001b[0m: \u001b[1;36m2\u001b[0m, \u001b[32m'role_fp'\u001b[0m: \u001b[1;36m0\u001b[0m, \u001b[32m'role_fn'\u001b[0m: \u001b[1;36m0\u001b[0m\u001b[1m}\u001b[0m"
      ]
     },
     "execution_count": 111,
     "metadata": {},
     "output_type": "execute_result"
    }
   ],
   "source": [
    "count_metrics(results[0])"
   ]
  },
  {
   "cell_type": "code",
   "execution_count": 132,
   "metadata": {},
   "outputs": [
    {
     "name": "stderr",
     "output_type": "stream",
     "text": [
      "Map (num_proc=16): 100%|██████████████████████████████████████████████████████████████████████████| 980/980 [00:00<00:00, 4854.22 examples/s]\n"
     ]
    }
   ],
   "source": [
    "results = results.map(count_metrics, num_proc=16)"
   ]
  },
  {
   "cell_type": "code",
   "execution_count": 133,
   "metadata": {},
   "outputs": [],
   "source": [
    "arg_tp = sum(results['arg_tp'])\n",
    "arg_fp = sum(results['arg_fp'])\n",
    "arg_fn = sum(results['arg_fn'])\n",
    "\n",
    "arg_precision = arg_tp / (arg_tp + arg_fp)\n",
    "arg_recall = arg_tp / (arg_tp + arg_fn)\n",
    "arg_f1 = 2 * arg_tp / (2 * arg_tp + arg_fp + arg_fn)\n",
    "\n",
    "role_tp = sum(results['role_tp'])\n",
    "role_fp = sum(results['role_fp'])\n",
    "role_fn = sum(results['role_fn'])\n",
    "\n",
    "role_precision = role_tp / (role_tp + role_fp)\n",
    "role_recall = role_tp / (role_tp + role_fn)\n",
    "role_f1 = 2 * role_tp / (2 * role_tp + role_fp + role_fn)"
   ]
  },
  {
   "cell_type": "code",
   "execution_count": 134,
   "metadata": {},
   "outputs": [
    {
     "name": "stdout",
     "output_type": "stream",
     "text": [
      "arg precision: 0.8366279069767442\n",
      "arg recall: 0.8540059347181009\n",
      "arg F1: 0.8452276064610866\n",
      "role precision: 0.8377906976744186\n",
      "role recall: 0.8407234539089848\n",
      "role F1: 0.8392545136866628\n"
     ]
    }
   ],
   "source": [
    "print(f'arg precision: {arg_precision}')\n",
    "print(f'arg recall: {arg_recall}')\n",
    "print(f'arg F1: {arg_f1}')\n",
    "print(f'role precision: {role_precision}')\n",
    "print(f'role recall: {role_recall}')\n",
    "print(f'role F1: {role_f1}')"
   ]
  },
  {
   "cell_type": "code",
   "execution_count": 125,
   "metadata": {},
   "outputs": [
    {
     "name": "stdout",
     "output_type": "stream",
     "text": [
      "{'пациенс': {'tp': 1394, 'fp': 213, 'fn': 252}, 'причина': {'tp': 767, 'fp': 107, 'fn': 96}, 'субъект психологического состояния': {'tp': 927, 'fp': 74, 'fn': 123}, 'субъект поведения': {'tp': 91, 'fp': 26, 'fn': 27}, 'агенс': {'tp': 1515, 'fp': 278, 'fn': 348}, 'результат / цель': {'tp': 77, 'fp': 9, 'fn': 6}, 'содержание высказывания': {'tp': 497, 'fp': 104, 'fn': 156}, 'способ': {'tp': 71, 'fp': 44, 'fn': 30}, 'субъект перемещения': {'tp': 767, 'fp': 79, 'fn': 111}, 'пациенс перемещения': {'tp': 292, 'fp': 46, 'fn': 73}, 'каузатор': {'tp': 35, 'fp': 10, 'fn': 22}, 'конечная точка': {'tp': 438, 'fp': 75, 'fn': 66}, 'эффектор': {'tp': 117, 'fp': 48, 'fn': 64}, 'средство': {'tp': 2, 'fp': 8, 'fn': 4}, 'субъект социального отношения': {'tp': 157, 'fp': 26, 'fn': 41}, 'пациенс социального отношения': {'tp': 37, 'fp': 36, 'fn': 12}, 'субъект ментального состояния': {'tp': 253, 'fp': 43, 'fn': 59}, 'содержание действия': {'tp': 458, 'fp': 61, 'fn': 135}, 'тема': {'tp': 944, 'fp': 84, 'fn': 201}, 'субъект модальности': {'tp': 6, 'fp': 25, 'fn': 3}, 'ситуация в фокусе': {'tp': 62, 'fp': 33, 'fn': 32}, 'содержание мысли': {'tp': 473, 'fp': 67, 'fn': 102}, 'признак': {'tp': 65, 'fp': 12, 'fn': 52}, 'эталон': {'tp': 77, 'fp': 24, 'fn': 2}, 'часть темы в фокусе внимания': {'tp': 10, 'fp': 5, 'fn': 3}, 'подвергающаяся воздействию часть пациенса': {'tp': 11, 'fp': 15, 'fn': 20}, 'контрагент': {'tp': 209, 'fp': 17, 'fn': 47}, 'субъект перемещения метаф.': {'tp': 7, 'fp': 9, 'fn': 2}, 'конечная точка - сфера': {'tp': 18, 'fp': 6, 'fn': 5}, 'место': {'tp': 489, 'fp': 118, 'fn': 95}, 'субъект восприятия': {'tp': 210, 'fp': 9, 'fn': 29}, 'стимул': {'tp': 345, 'fp': 46, 'fn': 73}, 'субъект физиологической реакции': {'tp': 102, 'fp': 13, 'fn': 14}, 'место / траектория': {'tp': 5, 'fp': 11, 'fn': 3}, 'фоновая ситуация': {'tp': 4, 'fp': 1, 'fn': 1}, 'инструмент / квазиинструмент': {'tp': 35, 'fp': 7, 'fn': 5}, 'говорящий': {'tp': 663, 'fp': 77, 'fn': 127}, 'предмет высказывания': {'tp': 123, 'fp': 21, 'fn': 47}, 'адресат': {'tp': 252, 'fp': 35, 'fn': 48}, 'предмет высказывания / содержание высказывания': {'tp': 9, 'fp': 2, 'fn': 12}, 'свойство причины': {'tp': 8, 'fp': 8, 'fn': 5}, 'начальная точка': {'tp': 118, 'fp': 20, 'fn': 11}, 'признак действия': {'tp': 55, 'fp': 23, 'fn': 14}, 'сфера': {'tp': 57, 'fp': 7, 'fn': 32}, 'траектория': {'tp': 21, 'fp': 16, 'fn': 10}, 'потенциальный пациенс': {'tp': 92, 'fp': 6, 'fn': 16}, 'предмет мысли / содержание мысли': {'tp': 5, 'fp': 38, 'fn': 4}, 'агенс - субъект ментального состояния': {'tp': 30, 'fp': 19, 'fn': 20}, 'предмет мысли': {'tp': 68, 'fp': 39, 'fn': 18}, 'квазиинструмент': {'tp': 20, 'fp': 0, 'fn': 6}, 'часть контрагента в фокусе внимания': {'tp': 15, 'fp': 6, 'fn': 0}, 'посессор': {'tp': 20, 'fp': 12, 'fn': 5}, 'часть субъекта физиологического ощущения': {'tp': 15, 'fp': 5, 'fn': 1}, 'результат': {'tp': 256, 'fp': 65, 'fn': 98}, 'субъект психологического состояния / часть субъекта психологического состояния': {'tp': 30, 'fp': 4, 'fn': 13}, 'признак / статус': {'tp': 17, 'fp': 1, 'fn': 5}, 'срок': {'tp': 71, 'fp': 8, 'fn': 7}, 'статус': {'tp': 50, 'fp': 7, 'fn': 21}, 'место метаф.': {'tp': 3, 'fp': 1, 'fn': 7}, 'среда': {'tp': 3, 'fp': 15, 'fn': 0}, 'конечный посессор': {'tp': 91, 'fp': 11, 'fn': 35}, 'контрагент социального отношения': {'tp': 99, 'fp': 27, 'fn': 11}, 'агенс - субъект психологического состояния': {'tp': 4, 'fp': 15, 'fn': 5}, 'расстояние': {'tp': 3, 'fp': 5, 'fn': 2}, 'источник': {'tp': 1, 'fp': 0, 'fn': 0}, 'цель': {'tp': 72, 'fp': 17, 'fn': 29}, 'конечная точка - момент': {'tp': 16, 'fp': 3, 'fn': 2}, 'часть субъекта восприятия': {'tp': 1, 'fp': 0, 'fn': 0}, 'источник звука': {'tp': 99, 'fp': 6, 'fn': 23}, 'атрибут': {'tp': 5, 'fp': 6, 'fn': 1}, 'субъект восприятия / часть субъекта восприятия': {'tp': 0, 'fp': 0, 'fn': 1}, 'исходный посессор': {'tp': 31, 'fp': 7, 'fn': 29}, 'мотивировка': {'tp': 28, 'fp': 4, 'fn': 5}, 'инструмент - место': {'tp': 15, 'fp': 3, 'fn': 1}, 'носитель информации': {'tp': 14, 'fp': 7, 'fn': 2}, 'бенефициант': {'tp': 6, 'fp': 5, 'fn': 4}, 'ситуация в фокусе - стимул': {'tp': 4, 'fp': 0, 'fn': 13}, 'предел': {'tp': 13, 'fp': 3, 'fn': 4}, 'потенциальная угроза': {'tp': 46, 'fp': 6, 'fn': 19}, 'контрагент - субъект ментального состояния': {'tp': 9, 'fp': 3, 'fn': 8}, 'место - пациенс': {'tp': 49, 'fp': 6, 'fn': 20}, 'агенс - субъект восприятия': {'tp': 42, 'fp': 6, 'fn': 17}, 'направление': {'tp': 10, 'fp': 5, 'fn': 0}, 'субъект физиологического ощущения': {'tp': 47, 'fp': 7, 'fn': 2}, 'звук': {'tp': 5, 'fp': 3, 'fn': 2}, 'субъект ситуации в фокусе': {'tp': 0, 'fp': 1, 'fn': 1}, 'опора метаф.': {'tp': 6, 'fp': 0, 'fn': 0}, 'говорящий - субъект психологического состояния': {'tp': 72, 'fp': 3, 'fn': 14}, 'множество': {'tp': 6, 'fp': 2, 'fn': 5}, 'аудитория': {'tp': 2, 'fp': 1, 'fn': 7}, 'потенциальный контрагент': {'tp': 8, 'fp': 0, 'fn': 2}, 'потенциальная угроза - содержание высказывания': {'tp': 1, 'fp': 3, 'fn': 2}, 'результат - содержание мысли': {'tp': 0, 'fp': 4, 'fn': 2}, 'конечная точка - причина': {'tp': 0, 'fp': 0, 'fn': 3}, 'инструмент': {'tp': 7, 'fp': 2, 'fn': 0}, 'направление / стимул': {'tp': 8, 'fp': 0, 'fn': 0}, 'ситуация': {'tp': 2, 'fp': 3, 'fn': 10}, 'экспериенцер': {'tp': 1, 'fp': 0, 'fn': 15}, 'субъект психологического состояния / субъект физиологического ощущения': {'tp': 5, 'fp': 0, 'fn': 2}, 'запах': {'tp': 47, 'fp': 1, 'fn': 9}, 'источник запаха': {'tp': 31, 'fp': 8, 'fn': 6}, 'пациенс / результат': {'tp': 5, 'fp': 12, 'fn': 7}, 'контрагент / пациенс': {'tp': 1, 'fp': 0, 'fn': 3}, 'направление / способ': {'tp': 0, 'fp': 1, 'fn': 1}, 'исходный посессор / агенс': {'tp': 1, 'fp': 2, 'fn': 3}, 'точка контакта': {'tp': 1, 'fp': 0, 'fn': 1}, 'ресурс': {'tp': 0, 'fp': 6, 'fn': 0}, 'начальная точка - сфера': {'tp': 5, 'fp': 2, 'fn': 1}, 'субъект ментального состояния / субъект психологического состояния': {'tp': 2, 'fp': 2, 'fn': 1}, 'источник вещества': {'tp': 2, 'fp': 1, 'fn': 0}, 'ресурс метаф.': {'tp': 4, 'fp': 6, 'fn': 3}, 'пациенс социального взаимодействия': {'tp': 15, 'fp': 0, 'fn': 1}, 'агенс / каузатор': {'tp': 29, 'fp': 4, 'fn': 11}, 'конечная точка - множество': {'tp': 16, 'fp': 1, 'fn': 1}, 'стимул - субъект перемещения - тема': {'tp': 0, 'fp': 1, 'fn': 0}, 'начальная точка - состояние': {'tp': 0, 'fp': 1, 'fn': 0}, 'опора': {'tp': 11, 'fp': 4, 'fn': 1}, 'конечная точка - пациенс / конечная точка - тема': {'tp': 2, 'fp': 0, 'fn': 0}, 'источник звука - часть говорящего': {'tp': 18, 'fp': 0, 'fn': 9}, 'пациенс / тема': {'tp': 4, 'fp': 7, 'fn': 5}, 'социальная среда': {'tp': 2, 'fp': 0, 'fn': 0}, 'говорящий / источник звука': {'tp': 11, 'fp': 1, 'fn': 1}, 'значение параметра': {'tp': 1, 'fp': 0, 'fn': 0}, 'часть субъекта ментального состояния / часть субъекта психологического состояния': {'tp': 3, 'fp': 0, 'fn': 0}, 'субъект': {'tp': 0, 'fp': 1, 'fn': 1}, 'источник света': {'tp': 24, 'fp': 0, 'fn': 0}, 'содержание действия / стимул': {'tp': 10, 'fp': 9, 'fn': 3}, 'контейнер метаф.': {'tp': 6, 'fp': 0, 'fn': 1}, 'содержимое метаф.': {'tp': 1, 'fp': 0, 'fn': 1}, 'кореферентно X-у или часть X-а': {'tp': 0, 'fp': 0, 'fn': 0}, 'вместилище': {'tp': 11, 'fp': 1, 'fn': 0}, 'содержимое': {'tp': 8, 'fp': 2, 'fn': 1}, 'конечная точка - подвергающаяся воздействию часть пациенса': {'tp': 3, 'fp': 2, 'fn': 1}, 'часть субъекта физиологической реакции': {'tp': 8, 'fp': 1, 'fn': 1}, 'агенс / эффектор': {'tp': 0, 'fp': 2, 'fn': 4}, 'результат - стимул': {'tp': 2, 'fp': 5, 'fn': 2}, 'контрагент / содержание высказывания': {'tp': 8, 'fp': 1, 'fn': 2}, 'параметр': {'tp': 2, 'fp': 0, 'fn': 0}, 'конечная точка - пациенс': {'tp': 1, 'fp': 0, 'fn': 1}, 'агенс - субъект восприятия / агенс - субъект психологического состояния': {'tp': 0, 'fp': 0, 'fn': 0}, 'часть субъекта восприятия / часть субъекта психологического состояния': {'tp': 0, 'fp': 0, 'fn': 0}, 'начальная точка - опора': {'tp': 0, 'fp': 0, 'fn': 0}}\n"
     ]
    }
   ],
   "source": [
    "print(role_metrics)"
   ]
  },
  {
   "cell_type": "code",
   "execution_count": 126,
   "metadata": {},
   "outputs": [
    {
     "name": "stdout",
     "output_type": "stream",
     "text": [
      "пациенс:\t0.8674548848786559\t0.8469015795868773\t0.8570550261297264\n",
      "причина:\t0.8775743707093822\t0.8887601390498262\t0.8831318364997122\n",
      "субъект психологического состояния:\t0.926073926073926\t0.8828571428571429\t0.9039492930277914\n",
      "субъект поведения:\t0.7777777777777778\t0.7711864406779662\t0.774468085106383\n",
      "агенс:\t0.8449525934188511\t0.8132045088566827\t0.8287746170678337\n",
      "результат / цель:\t0.8953488372093024\t0.927710843373494\t0.9112426035502958\n",
      "содержание высказывания:\t0.826955074875208\t0.7611026033690659\t0.7926634768740032\n",
      "способ:\t0.6173913043478261\t0.7029702970297029\t0.6574074074074074\n",
      "субъект перемещения:\t0.9066193853427896\t0.8735763097949886\t0.8897911832946636\n",
      "пациенс перемещения:\t0.863905325443787\t0.8\t0.8307254623044097\n",
      "каузатор:\t0.7777777777777778\t0.6140350877192983\t0.6862745098039216\n",
      "конечная точка:\t0.8538011695906432\t0.8690476190476191\t0.8613569321533924\n",
      "эффектор:\t0.7090909090909091\t0.6464088397790055\t0.6763005780346821\n",
      "средство:\t0.2\t0.3333333333333333\t0.25\n",
      "субъект социального отношения:\t0.8579234972677595\t0.7929292929292929\t0.8241469816272966\n",
      "пациенс социального отношения:\t0.5068493150684932\t0.7551020408163265\t0.6065573770491803\n",
      "субъект ментального состояния:\t0.8547297297297297\t0.8108974358974359\t0.8322368421052632\n",
      "содержание действия:\t0.882466281310212\t0.7723440134907251\t0.8237410071942446\n",
      "тема:\t0.9182879377431906\t0.8244541484716157\t0.868844914864243\n",
      "субъект модальности:\t0.1935483870967742\t0.6666666666666666\t0.3\n",
      "ситуация в фокусе:\t0.6526315789473685\t0.6595744680851063\t0.656084656084656\n",
      "содержание мысли:\t0.8759259259259259\t0.8226086956521739\t0.8484304932735426\n",
      "признак:\t0.8441558441558441\t0.5555555555555556\t0.6701030927835051\n",
      "эталон:\t0.7623762376237624\t0.9746835443037974\t0.8555555555555555\n",
      "часть темы в фокусе внимания:\t0.6666666666666666\t0.7692307692307693\t0.7142857142857143\n",
      "подвергающаяся воздействию часть пациенса:\t0.4230769230769231\t0.3548387096774194\t0.38596491228070173\n",
      "контрагент:\t0.9247787610619469\t0.81640625\t0.8672199170124482\n",
      "субъект перемещения метаф.:\t0.4375\t0.7777777777777778\t0.56\n",
      "конечная точка - сфера:\t0.75\t0.782608695652174\t0.7659574468085106\n",
      "место:\t0.8056013179571664\t0.8373287671232876\t0.8211586901763224\n",
      "субъект восприятия:\t0.958904109589041\t0.8786610878661087\t0.9170305676855895\n",
      "стимул:\t0.8823529411764706\t0.8253588516746412\t0.8529048207663782\n",
      "субъект физиологической реакции:\t0.8869565217391304\t0.8793103448275862\t0.8831168831168831\n",
      "место / траектория:\t0.3125\t0.625\t0.4166666666666667\n",
      "фоновая ситуация:\t0.8\t0.8\t0.8\n",
      "инструмент / квазиинструмент:\t0.8333333333333334\t0.875\t0.8536585365853658\n",
      "говорящий:\t0.8959459459459459\t0.839240506329114\t0.8666666666666667\n",
      "предмет высказывания:\t0.8541666666666666\t0.7235294117647059\t0.7834394904458599\n",
      "адресат:\t0.8780487804878049\t0.84\t0.858603066439523\n",
      "предмет высказывания / содержание высказывания:\t0.8181818181818182\t0.42857142857142855\t0.5625\n",
      "свойство причины:\t0.5\t0.6153846153846154\t0.5517241379310345\n",
      "начальная точка:\t0.855072463768116\t0.9147286821705426\t0.8838951310861424\n",
      "признак действия:\t0.7051282051282052\t0.7971014492753623\t0.7482993197278912\n",
      "сфера:\t0.890625\t0.6404494382022472\t0.7450980392156863\n",
      "траектория:\t0.5675675675675675\t0.6774193548387096\t0.6176470588235294\n",
      "потенциальный пациенс:\t0.9387755102040817\t0.8518518518518519\t0.8932038834951457\n",
      "предмет мысли / содержание мысли:\t0.11627906976744186\t0.5555555555555556\t0.19230769230769232\n",
      "агенс - субъект ментального состояния:\t0.6122448979591837\t0.6\t0.6060606060606061\n",
      "предмет мысли:\t0.6355140186915887\t0.7906976744186046\t0.7046632124352331\n",
      "квазиинструмент:\t1.0\t0.7692307692307693\t0.8695652173913043\n",
      "часть контрагента в фокусе внимания:\t0.7142857142857143\t1.0\t0.8333333333333334\n",
      "посессор:\t0.625\t0.8\t0.7017543859649122\n",
      "часть субъекта физиологического ощущения:\t0.75\t0.9375\t0.8333333333333334\n",
      "результат:\t0.7975077881619937\t0.7231638418079096\t0.7585185185185185\n",
      "субъект психологического состояния / часть субъекта психологического состояния:\t0.8823529411764706\t0.6976744186046512\t0.7792207792207793\n",
      "признак / статус:\t0.9444444444444444\t0.7727272727272727\t0.85\n",
      "срок:\t0.8987341772151899\t0.9102564102564102\t0.9044585987261147\n",
      "статус:\t0.8771929824561403\t0.704225352112676\t0.78125\n",
      "место метаф.:\t0.75\t0.3\t0.42857142857142855\n",
      "среда:\t0.16666666666666666\t1.0\t0.2857142857142857\n",
      "конечный посессор:\t0.8921568627450981\t0.7222222222222222\t0.7982456140350878\n",
      "контрагент социального отношения:\t0.7857142857142857\t0.9\t0.8389830508474576\n",
      "агенс - субъект психологического состояния:\t0.21052631578947367\t0.4444444444444444\t0.2857142857142857\n",
      "расстояние:\t0.375\t0.6\t0.46153846153846156\n",
      "источник:\t1.0\t1.0\t1.0\n",
      "цель:\t0.8089887640449438\t0.7128712871287128\t0.7578947368421053\n",
      "конечная точка - момент:\t0.8421052631578947\t0.8888888888888888\t0.8648648648648649\n",
      "часть субъекта восприятия:\t1.0\t1.0\t1.0\n",
      "источник звука:\t0.9428571428571428\t0.8114754098360656\t0.8722466960352423\n",
      "атрибут:\t0.45454545454545453\t0.8333333333333334\t0.5882352941176471\n",
      "freak субъект восприятия / часть субъекта восприятия\n",
      "исходный посессор:\t0.8157894736842105\t0.5166666666666667\t0.6326530612244898\n",
      "мотивировка:\t0.875\t0.8484848484848485\t0.8615384615384616\n",
      "инструмент - место:\t0.8333333333333334\t0.9375\t0.8823529411764706\n",
      "носитель информации:\t0.6666666666666666\t0.875\t0.7567567567567568\n",
      "бенефициант:\t0.5454545454545454\t0.6\t0.5714285714285714\n",
      "ситуация в фокусе - стимул:\t1.0\t0.23529411764705882\t0.38095238095238093\n",
      "предел:\t0.8125\t0.7647058823529411\t0.7878787878787878\n",
      "потенциальная угроза:\t0.8846153846153846\t0.7076923076923077\t0.7863247863247863\n",
      "контрагент - субъект ментального состояния:\t0.75\t0.5294117647058824\t0.6206896551724138\n",
      "место - пациенс:\t0.8909090909090909\t0.7101449275362319\t0.7903225806451613\n",
      "агенс - субъект восприятия:\t0.875\t0.711864406779661\t0.7850467289719626\n",
      "направление:\t0.6666666666666666\t1.0\t0.8\n",
      "субъект физиологического ощущения:\t0.8703703703703703\t0.9591836734693877\t0.912621359223301\n",
      "звук:\t0.625\t0.7142857142857143\t0.6666666666666666\n",
      "субъект ситуации в фокусе:\t0.0\t0.0\t0.0\n",
      "опора метаф.:\t1.0\t1.0\t1.0\n",
      "говорящий - субъект психологического состояния:\t0.96\t0.8372093023255814\t0.8944099378881988\n",
      "множество:\t0.75\t0.5454545454545454\t0.631578947368421\n",
      "аудитория:\t0.6666666666666666\t0.2222222222222222\t0.3333333333333333\n",
      "потенциальный контрагент:\t1.0\t0.8\t0.8888888888888888\n",
      "потенциальная угроза - содержание высказывания:\t0.25\t0.3333333333333333\t0.2857142857142857\n",
      "результат - содержание мысли:\t0.0\t0.0\t0.0\n",
      "freak конечная точка - причина\n",
      "инструмент:\t0.7777777777777778\t1.0\t0.875\n",
      "направление / стимул:\t1.0\t1.0\t1.0\n",
      "ситуация:\t0.4\t0.16666666666666666\t0.23529411764705882\n",
      "экспериенцер:\t1.0\t0.0625\t0.11764705882352941\n",
      "субъект психологического состояния / субъект физиологического ощущения:\t1.0\t0.7142857142857143\t0.8333333333333334\n",
      "запах:\t0.9791666666666666\t0.8392857142857143\t0.9038461538461539\n",
      "источник запаха:\t0.7948717948717948\t0.8378378378378378\t0.8157894736842105\n",
      "пациенс / результат:\t0.29411764705882354\t0.4166666666666667\t0.3448275862068966\n",
      "контрагент / пациенс:\t1.0\t0.25\t0.4\n",
      "направление / способ:\t0.0\t0.0\t0.0\n",
      "исходный посессор / агенс:\t0.3333333333333333\t0.25\t0.2857142857142857\n",
      "точка контакта:\t1.0\t0.5\t0.6666666666666666\n",
      "freak ресурс\n",
      "начальная точка - сфера:\t0.7142857142857143\t0.8333333333333334\t0.7692307692307693\n",
      "субъект ментального состояния / субъект психологического состояния:\t0.5\t0.6666666666666666\t0.5714285714285714\n",
      "источник вещества:\t0.6666666666666666\t1.0\t0.8\n",
      "ресурс метаф.:\t0.4\t0.5714285714285714\t0.47058823529411764\n",
      "пациенс социального взаимодействия:\t1.0\t0.9375\t0.967741935483871\n",
      "агенс / каузатор:\t0.8787878787878788\t0.725\t0.7945205479452054\n",
      "конечная точка - множество:\t0.9411764705882353\t0.9411764705882353\t0.9411764705882353\n",
      "freak стимул - субъект перемещения - тема\n",
      "freak начальная точка - состояние\n",
      "опора:\t0.7333333333333333\t0.9166666666666666\t0.8148148148148148\n",
      "конечная точка - пациенс / конечная точка - тема:\t1.0\t1.0\t1.0\n",
      "источник звука - часть говорящего:\t1.0\t0.6666666666666666\t0.8\n",
      "пациенс / тема:\t0.36363636363636365\t0.4444444444444444\t0.4\n",
      "социальная среда:\t1.0\t1.0\t1.0\n",
      "говорящий / источник звука:\t0.9166666666666666\t0.9166666666666666\t0.9166666666666666\n",
      "значение параметра:\t1.0\t1.0\t1.0\n",
      "часть субъекта ментального состояния / часть субъекта психологического состояния:\t1.0\t1.0\t1.0\n",
      "субъект:\t0.0\t0.0\t0.0\n",
      "источник света:\t1.0\t1.0\t1.0\n",
      "содержание действия / стимул:\t0.5263157894736842\t0.7692307692307693\t0.625\n",
      "контейнер метаф.:\t1.0\t0.8571428571428571\t0.9230769230769231\n",
      "содержимое метаф.:\t1.0\t0.5\t0.6666666666666666\n",
      "freak кореферентно X-у или часть X-а\n",
      "вместилище:\t0.9166666666666666\t1.0\t0.9565217391304348\n",
      "содержимое:\t0.8\t0.8888888888888888\t0.8421052631578947\n",
      "конечная точка - подвергающаяся воздействию часть пациенса:\t0.6\t0.75\t0.6666666666666666\n",
      "часть субъекта физиологической реакции:\t0.8888888888888888\t0.8888888888888888\t0.8888888888888888\n",
      "агенс / эффектор:\t0.0\t0.0\t0.0\n",
      "результат - стимул:\t0.2857142857142857\t0.5\t0.36363636363636365\n",
      "контрагент / содержание высказывания:\t0.8888888888888888\t0.8\t0.8421052631578947\n",
      "параметр:\t1.0\t1.0\t1.0\n",
      "конечная точка - пациенс:\t1.0\t0.5\t0.6666666666666666\n",
      "freak агенс - субъект восприятия / агенс - субъект психологического состояния\n",
      "freak часть субъекта восприятия / часть субъекта психологического состояния\n",
      "freak начальная точка - опора\n"
     ]
    }
   ],
   "source": [
    "for (role, metric) in role_metrics.items():\n",
    "    role_tp = metric['tp']\n",
    "    role_fp = metric['fp']\n",
    "    role_fn = metric['fn']\n",
    "\n",
    "    if role_tp + role_fp == 0 or role_tp + role_fn == 0:\n",
    "        print(f'freak {role}')\n",
    "        continue\n",
    "\n",
    "    role_precision = role_tp / (role_tp + role_fp)\n",
    "    role_recall = role_tp / (role_tp + role_fn)\n",
    "    role_f1 = 2 * role_tp / (2 * role_tp + role_fp + role_fn)\n",
    "    print(f'{role}:\\t{role_precision}\\t{role_recall}\\t{role_f1}')"
   ]
  },
  {
   "cell_type": "code",
   "execution_count": null,
   "metadata": {},
   "outputs": [],
   "source": []
  }
 ],
 "metadata": {
  "kernelspec": {
   "display_name": "myenv",
   "language": "python",
   "name": "myenv"
  },
  "language_info": {
   "codemirror_mode": {
    "name": "ipython",
    "version": 3
   },
   "file_extension": ".py",
   "mimetype": "text/x-python",
   "name": "python",
   "nbconvert_exporter": "python",
   "pygments_lexer": "ipython3",
   "version": "3.12.10"
  }
 },
 "nbformat": 4,
 "nbformat_minor": 4
}
